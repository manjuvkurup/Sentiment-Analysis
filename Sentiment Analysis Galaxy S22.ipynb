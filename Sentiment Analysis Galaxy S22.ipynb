{
 "cells": [
  {
   "cell_type": "code",
   "execution_count": 26,
   "metadata": {},
   "outputs": [
    {
     "name": "stderr",
     "output_type": "stream",
     "text": [
      "[nltk_data] Downloading package punkt to\n",
      "[nltk_data]     C:\\Users\\manju\\AppData\\Roaming\\nltk_data...\n",
      "[nltk_data]   Package punkt is already up-to-date!\n",
      "[nltk_data] Downloading package averaged_perceptron_tagger to\n",
      "[nltk_data]     C:\\Users\\manju\\AppData\\Roaming\\nltk_data...\n",
      "[nltk_data]   Package averaged_perceptron_tagger is already up-to-\n",
      "[nltk_data]       date!\n",
      "[nltk_data] Downloading package maxent_ne_chunker to\n",
      "[nltk_data]     C:\\Users\\manju\\AppData\\Roaming\\nltk_data...\n",
      "[nltk_data]   Package maxent_ne_chunker is already up-to-date!\n",
      "[nltk_data] Downloading package words to\n",
      "[nltk_data]     C:\\Users\\manju\\AppData\\Roaming\\nltk_data...\n",
      "[nltk_data]   Package words is already up-to-date!\n",
      "[nltk_data] Downloading package vader_lexicon to\n",
      "[nltk_data]     C:\\Users\\manju\\AppData\\Roaming\\nltk_data...\n",
      "[nltk_data]   Package vader_lexicon is already up-to-date!\n"
     ]
    },
    {
     "data": {
      "text/plain": [
       "True"
      ]
     },
     "execution_count": 26,
     "metadata": {},
     "output_type": "execute_result"
    }
   ],
   "source": [
    "# import libraries\n",
    "\n",
    "import pandas as pd\n",
    "import numpy as np\n",
    "import matplotlib.pyplot as plt\n",
    "import seaborn as sns\n",
    "\n",
    "import nltk\n",
    "import nltk\n",
    "nltk.download('punkt')\n",
    "nltk.download('averaged_perceptron_tagger')\n",
    "nltk.download('maxent_ne_chunker')\n",
    "nltk.download('words')\n",
    "nltk.download('vader_lexicon')"
   ]
  },
  {
   "cell_type": "code",
   "execution_count": 2,
   "metadata": {},
   "outputs": [
    {
     "data": {
      "text/plain": [
       "(97, 8)"
      ]
     },
     "execution_count": 2,
     "metadata": {},
     "output_type": "execute_result"
    }
   ],
   "source": [
    "# read data \n",
    "\n",
    "df = pd.read_excel('Samsung-Galaxy-S22Review_CleansedData.xlsx')\n",
    "df.shape"
   ]
  },
  {
   "cell_type": "code",
   "execution_count": 3,
   "metadata": {},
   "outputs": [],
   "source": [
    "# Create index for the dataframe\n",
    "\n",
    "#index = pd.Index(range(1, 98, 1))"
   ]
  },
  {
   "cell_type": "code",
   "execution_count": 4,
   "metadata": {},
   "outputs": [
    {
     "data": {
      "text/html": [
       "<div>\n",
       "<style scoped>\n",
       "    .dataframe tbody tr th:only-of-type {\n",
       "        vertical-align: middle;\n",
       "    }\n",
       "\n",
       "    .dataframe tbody tr th {\n",
       "        vertical-align: top;\n",
       "    }\n",
       "\n",
       "    .dataframe thead th {\n",
       "        text-align: right;\n",
       "    }\n",
       "</style>\n",
       "<table border=\"1\" class=\"dataframe\">\n",
       "  <thead>\n",
       "    <tr style=\"text-align: right;\">\n",
       "      <th></th>\n",
       "      <th>Index</th>\n",
       "      <th>Star-rating</th>\n",
       "      <th>Name</th>\n",
       "      <th>Reviewer Profile Url</th>\n",
       "      <th>Review Title</th>\n",
       "      <th>Review Content</th>\n",
       "      <th>images</th>\n",
       "      <th>Date</th>\n",
       "    </tr>\n",
       "  </thead>\n",
       "  <tbody>\n",
       "    <tr>\n",
       "      <th>0</th>\n",
       "      <td>1</td>\n",
       "      <td>4</td>\n",
       "      <td>Alex Lascar</td>\n",
       "      <td>https://www.amazon.co.uk/gp/customer-reviews/R...</td>\n",
       "      <td>Is the USA single SIM made for. No dual sim a...</td>\n",
       "      <td>Burgundy 512Gb\\nNo dual sim. Is the one made f...</td>\n",
       "      <td>https://m.media-amazon.com/images/I/61pLbh4o8R...</td>\n",
       "      <td>Reviewed in the United Kingdom on 20 August 2022</td>\n",
       "    </tr>\n",
       "    <tr>\n",
       "      <th>1</th>\n",
       "      <td>2</td>\n",
       "      <td>4</td>\n",
       "      <td>Manole Danut</td>\n",
       "      <td>https://www.amazon.co.uk/gp/customer-reviews/R...</td>\n",
       "      <td>Good phone, mediocre battery.</td>\n",
       "      <td>The overall product is good. When opening the ...</td>\n",
       "      <td>NaN</td>\n",
       "      <td>Reviewed in the United Kingdom on 25 July 2022</td>\n",
       "    </tr>\n",
       "    <tr>\n",
       "      <th>2</th>\n",
       "      <td>3</td>\n",
       "      <td>5</td>\n",
       "      <td>Bradley Clarke</td>\n",
       "      <td>https://www.amazon.co.uk/gp/customer-reviews/R...</td>\n",
       "      <td>Unbelievably good phone</td>\n",
       "      <td>This was what felt like an insane upgrade from...</td>\n",
       "      <td>NaN</td>\n",
       "      <td>Reviewed in the United Kingdom on 9 August 2022</td>\n",
       "    </tr>\n",
       "    <tr>\n",
       "      <th>3</th>\n",
       "      <td>4</td>\n",
       "      <td>5</td>\n",
       "      <td>S</td>\n",
       "      <td>https://www.amazon.co.uk/gp/customer-reviews/R...</td>\n",
       "      <td>Fabulous phone</td>\n",
       "      <td>Bought the Galaxy S22 Ultra as I wanted a came...</td>\n",
       "      <td>NaN</td>\n",
       "      <td>Reviewed in the United Kingdom on 23 August 2022</td>\n",
       "    </tr>\n",
       "    <tr>\n",
       "      <th>4</th>\n",
       "      <td>5</td>\n",
       "      <td>4</td>\n",
       "      <td>qais</td>\n",
       "      <td>https://www.amazon.co.uk/gp/customer-reviews/R...</td>\n",
       "      <td>doesn't deserve the price</td>\n",
       "      <td>the phone is good but absolutely doesn't deser...</td>\n",
       "      <td>NaN</td>\n",
       "      <td>Reviewed in the United Kingdom on 23 August 2022</td>\n",
       "    </tr>\n",
       "    <tr>\n",
       "      <th>...</th>\n",
       "      <td>...</td>\n",
       "      <td>...</td>\n",
       "      <td>...</td>\n",
       "      <td>...</td>\n",
       "      <td>...</td>\n",
       "      <td>...</td>\n",
       "      <td>...</td>\n",
       "      <td>...</td>\n",
       "    </tr>\n",
       "    <tr>\n",
       "      <th>92</th>\n",
       "      <td>93</td>\n",
       "      <td>5</td>\n",
       "      <td>Adam</td>\n",
       "      <td>https://www.amazon.co.uk/gp/customer-reviews/R...</td>\n",
       "      <td>So far, it's really great</td>\n",
       "      <td>I purchased this phone after having difficulti...</td>\n",
       "      <td>NaN</td>\n",
       "      <td>Reviewed in the United Kingdom on 10 May 2022</td>\n",
       "    </tr>\n",
       "    <tr>\n",
       "      <th>93</th>\n",
       "      <td>94</td>\n",
       "      <td>5</td>\n",
       "      <td>Richard</td>\n",
       "      <td>https://www.amazon.co.uk/gp/customer-reviews/R...</td>\n",
       "      <td>Great phone 📱</td>\n",
       "      <td>Great</td>\n",
       "      <td>NaN</td>\n",
       "      <td>Reviewed in the United Kingdom on 10 May 2022</td>\n",
       "    </tr>\n",
       "    <tr>\n",
       "      <th>94</th>\n",
       "      <td>95</td>\n",
       "      <td>5</td>\n",
       "      <td>Cochise664</td>\n",
       "      <td>https://www.amazon.co.uk/gp/customer-reviews/R...</td>\n",
       "      <td>Excellent well made quality product.</td>\n",
       "      <td>As you would expect from Samsung, the S22 Ultr...</td>\n",
       "      <td>NaN</td>\n",
       "      <td>Reviewed in the United Kingdom on 24 April 2022</td>\n",
       "    </tr>\n",
       "    <tr>\n",
       "      <th>95</th>\n",
       "      <td>96</td>\n",
       "      <td>3</td>\n",
       "      <td>Chris</td>\n",
       "      <td>https://www.amazon.co.uk/gp/customer-reviews/R...</td>\n",
       "      <td>Not much difference between the s21 ultra</td>\n",
       "      <td>This has to be the worst device ive ever owned...</td>\n",
       "      <td>NaN</td>\n",
       "      <td>Reviewed in the United Kingdom on 11 March 2022</td>\n",
       "    </tr>\n",
       "    <tr>\n",
       "      <th>96</th>\n",
       "      <td>97</td>\n",
       "      <td>1</td>\n",
       "      <td>Mr B.</td>\n",
       "      <td>https://www.amazon.co.uk/gp/customer-reviews/R...</td>\n",
       "      <td>Not an UK phone</td>\n",
       "      <td>Not a UK version.\\nNo samsung support.\\nHoweve...</td>\n",
       "      <td>NaN</td>\n",
       "      <td>Reviewed in the United Kingdom on 18 May 2022</td>\n",
       "    </tr>\n",
       "  </tbody>\n",
       "</table>\n",
       "<p>97 rows × 8 columns</p>\n",
       "</div>"
      ],
      "text/plain": [
       "    Index  Star-rating            Name  \\\n",
       "0       1            4     Alex Lascar   \n",
       "1       2            4    Manole Danut   \n",
       "2       3            5  Bradley Clarke   \n",
       "3       4            5               S   \n",
       "4       5            4            qais   \n",
       "..    ...          ...             ...   \n",
       "92     93            5            Adam   \n",
       "93     94            5         Richard   \n",
       "94     95            5      Cochise664   \n",
       "95     96            3           Chris   \n",
       "96     97            1           Mr B.   \n",
       "\n",
       "                                 Reviewer Profile Url  \\\n",
       "0   https://www.amazon.co.uk/gp/customer-reviews/R...   \n",
       "1   https://www.amazon.co.uk/gp/customer-reviews/R...   \n",
       "2   https://www.amazon.co.uk/gp/customer-reviews/R...   \n",
       "3   https://www.amazon.co.uk/gp/customer-reviews/R...   \n",
       "4   https://www.amazon.co.uk/gp/customer-reviews/R...   \n",
       "..                                                ...   \n",
       "92  https://www.amazon.co.uk/gp/customer-reviews/R...   \n",
       "93  https://www.amazon.co.uk/gp/customer-reviews/R...   \n",
       "94  https://www.amazon.co.uk/gp/customer-reviews/R...   \n",
       "95  https://www.amazon.co.uk/gp/customer-reviews/R...   \n",
       "96  https://www.amazon.co.uk/gp/customer-reviews/R...   \n",
       "\n",
       "                                         Review Title  \\\n",
       "0    Is the USA single SIM made for. No dual sim a...   \n",
       "1                       Good phone, mediocre battery.   \n",
       "2                             Unbelievably good phone   \n",
       "3                                      Fabulous phone   \n",
       "4                           doesn't deserve the price   \n",
       "..                                                ...   \n",
       "92                          So far, it's really great   \n",
       "93                                      Great phone 📱   \n",
       "94               Excellent well made quality product.   \n",
       "95          Not much difference between the s21 ultra   \n",
       "96                                    Not an UK phone   \n",
       "\n",
       "                                       Review Content  \\\n",
       "0   Burgundy 512Gb\\nNo dual sim. Is the one made f...   \n",
       "1   The overall product is good. When opening the ...   \n",
       "2   This was what felt like an insane upgrade from...   \n",
       "3   Bought the Galaxy S22 Ultra as I wanted a came...   \n",
       "4   the phone is good but absolutely doesn't deser...   \n",
       "..                                                ...   \n",
       "92  I purchased this phone after having difficulti...   \n",
       "93                                              Great   \n",
       "94  As you would expect from Samsung, the S22 Ultr...   \n",
       "95  This has to be the worst device ive ever owned...   \n",
       "96  Not a UK version.\\nNo samsung support.\\nHoweve...   \n",
       "\n",
       "                                               images  \\\n",
       "0   https://m.media-amazon.com/images/I/61pLbh4o8R...   \n",
       "1                                                 NaN   \n",
       "2                                                 NaN   \n",
       "3                                                 NaN   \n",
       "4                                                 NaN   \n",
       "..                                                ...   \n",
       "92                                                NaN   \n",
       "93                                                NaN   \n",
       "94                                                NaN   \n",
       "95                                                NaN   \n",
       "96                                                NaN   \n",
       "\n",
       "                                                Date  \n",
       "0   Reviewed in the United Kingdom on 20 August 2022  \n",
       "1     Reviewed in the United Kingdom on 25 July 2022  \n",
       "2    Reviewed in the United Kingdom on 9 August 2022  \n",
       "3   Reviewed in the United Kingdom on 23 August 2022  \n",
       "4   Reviewed in the United Kingdom on 23 August 2022  \n",
       "..                                               ...  \n",
       "92     Reviewed in the United Kingdom on 10 May 2022  \n",
       "93     Reviewed in the United Kingdom on 10 May 2022  \n",
       "94   Reviewed in the United Kingdom on 24 April 2022  \n",
       "95   Reviewed in the United Kingdom on 11 March 2022  \n",
       "96     Reviewed in the United Kingdom on 18 May 2022  \n",
       "\n",
       "[97 rows x 8 columns]"
      ]
     },
     "execution_count": 4,
     "metadata": {},
     "output_type": "execute_result"
    }
   ],
   "source": [
    "# dataset\n",
    "\n",
    "#df.set_index(index)\n",
    "#df.index.name = 'Index'\n",
    "df"
   ]
  },
  {
   "cell_type": "code",
   "execution_count": 5,
   "metadata": {},
   "outputs": [
    {
     "data": {
      "text/plain": [
       "0     4\n",
       "1     4\n",
       "2     5\n",
       "3     5\n",
       "4     4\n",
       "     ..\n",
       "92    5\n",
       "93    5\n",
       "94    5\n",
       "95    3\n",
       "96    1\n",
       "Name: Star-rating, Length: 97, dtype: int64"
      ]
     },
     "execution_count": 5,
     "metadata": {},
     "output_type": "execute_result"
    }
   ],
   "source": [
    "# Ratings\n",
    "df['Star-rating']"
   ]
  },
  {
   "cell_type": "code",
   "execution_count": 6,
   "metadata": {},
   "outputs": [
    {
     "data": {
      "text/plain": [
       "5    52\n",
       "1    17\n",
       "4    13\n",
       "3     9\n",
       "2     6\n",
       "Name: Star-rating, dtype: int64"
      ]
     },
     "execution_count": 6,
     "metadata": {},
     "output_type": "execute_result"
    }
   ],
   "source": [
    "# Count of star rating\n",
    "df['Star-rating'].value_counts()"
   ]
  },
  {
   "cell_type": "code",
   "execution_count": 7,
   "metadata": {},
   "outputs": [
    {
     "data": {
      "image/png": "[encoded data removed]",
      "text/plain": [
       "<Figure size 720x360 with 1 Axes>"
      ]
     },
     "metadata": {
      "needs_background": "light"
     },
     "output_type": "display_data"
    }
   ],
   "source": [
    "ax = df['Star-rating'].value_counts().sort_index() \\\n",
    "    .plot(kind='bar',\n",
    "          title='Count of Reviews by Stars',\n",
    "          figsize=(10, 5), color = 'g')\n",
    "ax.set_xlabel('Review Stars')\n",
    "ax.set_ylabel('Frequency')\n",
    "plt.grid()\n",
    "plt.show()"
   ]
  },
  {
   "cell_type": "code",
   "execution_count": 8,
   "metadata": {},
   "outputs": [
    {
     "data": {
      "text/plain": [
       "'This battery is really too weak.The rest is acceptable, although Bixby is misundestanding'"
      ]
     },
     "execution_count": 8,
     "metadata": {},
     "output_type": "execute_result"
    }
   ],
   "source": [
    "example = df['Review Content'][40]\n",
    "example"
   ]
  },
  {
   "cell_type": "code",
   "execution_count": 9,
   "metadata": {},
   "outputs": [
    {
     "data": {
      "text/plain": [
       "['This',\n",
       " 'battery',\n",
       " 'is',\n",
       " 'really',\n",
       " 'too',\n",
       " 'weak.The',\n",
       " 'rest',\n",
       " 'is',\n",
       " 'acceptable',\n",
       " ',',\n",
       " 'although',\n",
       " 'Bixby',\n",
       " 'is',\n",
       " 'misundestanding']"
      ]
     },
     "execution_count": 9,
     "metadata": {},
     "output_type": "execute_result"
    }
   ],
   "source": [
    "tokens = nltk.word_tokenize(example)\n",
    "#tokens[:]\n",
    "tokens"
   ]
  },
  {
   "cell_type": "code",
   "execution_count": 10,
   "metadata": {},
   "outputs": [
    {
     "data": {
      "text/plain": [
       "[('This', 'DT'),\n",
       " ('battery', 'NN'),\n",
       " ('is', 'VBZ'),\n",
       " ('really', 'RB'),\n",
       " ('too', 'RB'),\n",
       " ('weak.The', 'JJ'),\n",
       " ('rest', 'NN'),\n",
       " ('is', 'VBZ'),\n",
       " ('acceptable', 'JJ'),\n",
       " (',', ',')]"
      ]
     },
     "execution_count": 10,
     "metadata": {},
     "output_type": "execute_result"
    }
   ],
   "source": [
    "tagged = nltk.pos_tag(tokens)\n",
    "tagged[:10]"
   ]
  },
  {
   "cell_type": "code",
   "execution_count": 11,
   "metadata": {},
   "outputs": [
    {
     "name": "stdout",
     "output_type": "stream",
     "text": [
      "(S\n",
      "  This/DT\n",
      "  battery/NN\n",
      "  is/VBZ\n",
      "  really/RB\n",
      "  too/RB\n",
      "  weak.The/JJ\n",
      "  rest/NN\n",
      "  is/VBZ\n",
      "  acceptable/JJ\n",
      "  ,/,\n",
      "  although/IN\n",
      "  (PERSON Bixby/NNP)\n",
      "  is/VBZ\n",
      "  misundestanding/VBG)\n"
     ]
    }
   ],
   "source": [
    "entities = nltk.chunk.ne_chunk(tagged)\n",
    "entities.pprint()"
   ]
  },
  {
   "cell_type": "markdown",
   "metadata": {},
   "source": [
    "# Step 1. VADER Seniment Scoring"
   ]
  },
  {
   "cell_type": "code",
   "execution_count": 12,
   "metadata": {},
   "outputs": [],
   "source": [
    "from nltk.sentiment import SentimentIntensityAnalyzer\n",
    "from tqdm.notebook import tqdm\n",
    "\n",
    "sia = SentimentIntensityAnalyzer()"
   ]
  },
  {
   "cell_type": "code",
   "execution_count": 13,
   "metadata": {},
   "outputs": [
    {
     "data": {
      "text/plain": [
       "{'neg': 0.0, 'neu': 0.318, 'pos': 0.682, 'compound': 0.6468}"
      ]
     },
     "execution_count": 13,
     "metadata": {},
     "output_type": "execute_result"
    }
   ],
   "source": [
    "sia.polarity_scores('I am so happy!')"
   ]
  },
  {
   "cell_type": "code",
   "execution_count": 14,
   "metadata": {},
   "outputs": [
    {
     "data": {
      "text/plain": [
       "{'neg': 0.0, 'neu': 0.839, 'pos': 0.161, 'compound': 0.3182}"
      ]
     },
     "execution_count": 14,
     "metadata": {},
     "output_type": "execute_result"
    }
   ],
   "source": [
    "sia.polarity_scores(example)"
   ]
  },
  {
   "cell_type": "code",
   "execution_count": 15,
   "metadata": {},
   "outputs": [
    {
     "data": {
      "text/plain": [
       "{'neg': 0.451, 'neu': 0.549, 'pos': 0.0, 'compound': -0.6249}"
      ]
     },
     "execution_count": 15,
     "metadata": {},
     "output_type": "execute_result"
    }
   ],
   "source": [
    "sia.polarity_scores('This is the worst thing ever.')"
   ]
  },
  {
   "cell_type": "code",
   "execution_count": 16,
   "metadata": {},
   "outputs": [
    {
     "data": {
      "application/vnd.jupyter.widget-view+json": {
       "model_id": "a453bfd6f1844e4b8953e437d9137678",
       "version_major": 2,
       "version_minor": 0
      },
      "text/plain": [
       "HBox(children=(HTML(value=''), FloatProgress(value=0.0, max=97.0), HTML(value='')))"
      ]
     },
     "metadata": {},
     "output_type": "display_data"
    },
    {
     "name": "stdout",
     "output_type": "stream",
     "text": [
      "\n"
     ]
    }
   ],
   "source": [
    "# Run the polarity score on the entire dataset\n",
    "res = {}\n",
    "for i, row in tqdm(df.iterrows(), total=len(df)):\n",
    "    text = row['Review Content']\n",
    "    myid = row['Index']\n",
    "    res[myid] = sia.polarity_scores(text)"
   ]
  },
  {
   "cell_type": "code",
   "execution_count": 23,
   "metadata": {},
   "outputs": [],
   "source": [
    "vaders = pd.DataFrame(res).T\n",
    "vaders = vaders.reset_index().rename(columns={'index': 'Index'})\n",
    "vaders = vaders.merge(df, how='left')"
   ]
  },
  {
   "cell_type": "code",
   "execution_count": 24,
   "metadata": {},
   "outputs": [
    {
     "data": {
      "text/html": [
       "<div>\n",
       "<style scoped>\n",
       "    .dataframe tbody tr th:only-of-type {\n",
       "        vertical-align: middle;\n",
       "    }\n",
       "\n",
       "    .dataframe tbody tr th {\n",
       "        vertical-align: top;\n",
       "    }\n",
       "\n",
       "    .dataframe thead th {\n",
       "        text-align: right;\n",
       "    }\n",
       "</style>\n",
       "<table border=\"1\" class=\"dataframe\">\n",
       "  <thead>\n",
       "    <tr style=\"text-align: right;\">\n",
       "      <th></th>\n",
       "      <th>Index</th>\n",
       "      <th>neg</th>\n",
       "      <th>neu</th>\n",
       "      <th>pos</th>\n",
       "      <th>compound</th>\n",
       "      <th>Star-rating</th>\n",
       "      <th>Name</th>\n",
       "      <th>Reviewer Profile Url</th>\n",
       "      <th>Review Title</th>\n",
       "      <th>Review Content</th>\n",
       "      <th>images</th>\n",
       "      <th>Date</th>\n",
       "    </tr>\n",
       "  </thead>\n",
       "  <tbody>\n",
       "    <tr>\n",
       "      <th>0</th>\n",
       "      <td>1</td>\n",
       "      <td>0.068</td>\n",
       "      <td>0.900</td>\n",
       "      <td>0.032</td>\n",
       "      <td>-0.2235</td>\n",
       "      <td>4</td>\n",
       "      <td>Alex Lascar</td>\n",
       "      <td>https://www.amazon.co.uk/gp/customer-reviews/R...</td>\n",
       "      <td>Is the USA single SIM made for. No dual sim a...</td>\n",
       "      <td>Burgundy 512Gb\\nNo dual sim. Is the one made f...</td>\n",
       "      <td>https://m.media-amazon.com/images/I/61pLbh4o8R...</td>\n",
       "      <td>Reviewed in the United Kingdom on 20 August 2022</td>\n",
       "    </tr>\n",
       "    <tr>\n",
       "      <th>1</th>\n",
       "      <td>2</td>\n",
       "      <td>0.000</td>\n",
       "      <td>0.895</td>\n",
       "      <td>0.105</td>\n",
       "      <td>0.9432</td>\n",
       "      <td>4</td>\n",
       "      <td>Manole Danut</td>\n",
       "      <td>https://www.amazon.co.uk/gp/customer-reviews/R...</td>\n",
       "      <td>Good phone, mediocre battery.</td>\n",
       "      <td>The overall product is good. When opening the ...</td>\n",
       "      <td>NaN</td>\n",
       "      <td>Reviewed in the United Kingdom on 25 July 2022</td>\n",
       "    </tr>\n",
       "    <tr>\n",
       "      <th>2</th>\n",
       "      <td>3</td>\n",
       "      <td>0.052</td>\n",
       "      <td>0.812</td>\n",
       "      <td>0.136</td>\n",
       "      <td>0.9514</td>\n",
       "      <td>5</td>\n",
       "      <td>Bradley Clarke</td>\n",
       "      <td>https://www.amazon.co.uk/gp/customer-reviews/R...</td>\n",
       "      <td>Unbelievably good phone</td>\n",
       "      <td>This was what felt like an insane upgrade from...</td>\n",
       "      <td>NaN</td>\n",
       "      <td>Reviewed in the United Kingdom on 9 August 2022</td>\n",
       "    </tr>\n",
       "    <tr>\n",
       "      <th>3</th>\n",
       "      <td>4</td>\n",
       "      <td>0.000</td>\n",
       "      <td>0.853</td>\n",
       "      <td>0.147</td>\n",
       "      <td>0.9459</td>\n",
       "      <td>5</td>\n",
       "      <td>S</td>\n",
       "      <td>https://www.amazon.co.uk/gp/customer-reviews/R...</td>\n",
       "      <td>Fabulous phone</td>\n",
       "      <td>Bought the Galaxy S22 Ultra as I wanted a came...</td>\n",
       "      <td>NaN</td>\n",
       "      <td>Reviewed in the United Kingdom on 23 August 2022</td>\n",
       "    </tr>\n",
       "    <tr>\n",
       "      <th>4</th>\n",
       "      <td>5</td>\n",
       "      <td>0.000</td>\n",
       "      <td>0.736</td>\n",
       "      <td>0.264</td>\n",
       "      <td>0.8230</td>\n",
       "      <td>4</td>\n",
       "      <td>qais</td>\n",
       "      <td>https://www.amazon.co.uk/gp/customer-reviews/R...</td>\n",
       "      <td>doesn't deserve the price</td>\n",
       "      <td>the phone is good but absolutely doesn't deser...</td>\n",
       "      <td>NaN</td>\n",
       "      <td>Reviewed in the United Kingdom on 23 August 2022</td>\n",
       "    </tr>\n",
       "  </tbody>\n",
       "</table>\n",
       "</div>"
      ],
      "text/plain": [
       "   Index    neg    neu    pos  compound  Star-rating            Name  \\\n",
       "0      1  0.068  0.900  0.032   -0.2235            4     Alex Lascar   \n",
       "1      2  0.000  0.895  0.105    0.9432            4    Manole Danut   \n",
       "2      3  0.052  0.812  0.136    0.9514            5  Bradley Clarke   \n",
       "3      4  0.000  0.853  0.147    0.9459            5               S   \n",
       "4      5  0.000  0.736  0.264    0.8230            4            qais   \n",
       "\n",
       "                                Reviewer Profile Url  \\\n",
       "0  https://www.amazon.co.uk/gp/customer-reviews/R...   \n",
       "1  https://www.amazon.co.uk/gp/customer-reviews/R...   \n",
       "2  https://www.amazon.co.uk/gp/customer-reviews/R...   \n",
       "3  https://www.amazon.co.uk/gp/customer-reviews/R...   \n",
       "4  https://www.amazon.co.uk/gp/customer-reviews/R...   \n",
       "\n",
       "                                        Review Title  \\\n",
       "0   Is the USA single SIM made for. No dual sim a...   \n",
       "1                      Good phone, mediocre battery.   \n",
       "2                            Unbelievably good phone   \n",
       "3                                     Fabulous phone   \n",
       "4                          doesn't deserve the price   \n",
       "\n",
       "                                      Review Content  \\\n",
       "0  Burgundy 512Gb\\nNo dual sim. Is the one made f...   \n",
       "1  The overall product is good. When opening the ...   \n",
       "2  This was what felt like an insane upgrade from...   \n",
       "3  Bought the Galaxy S22 Ultra as I wanted a came...   \n",
       "4  the phone is good but absolutely doesn't deser...   \n",
       "\n",
       "                                              images  \\\n",
       "0  https://m.media-amazon.com/images/I/61pLbh4o8R...   \n",
       "1                                                NaN   \n",
       "2                                                NaN   \n",
       "3                                                NaN   \n",
       "4                                                NaN   \n",
       "\n",
       "                                               Date  \n",
       "0  Reviewed in the United Kingdom on 20 August 2022  \n",
       "1    Reviewed in the United Kingdom on 25 July 2022  \n",
       "2   Reviewed in the United Kingdom on 9 August 2022  \n",
       "3  Reviewed in the United Kingdom on 23 August 2022  \n",
       "4  Reviewed in the United Kingdom on 23 August 2022  "
      ]
     },
     "execution_count": 24,
     "metadata": {},
     "output_type": "execute_result"
    }
   ],
   "source": [
    "vaders.head()"
   ]
  },
  {
   "cell_type": "markdown",
   "metadata": {},
   "source": [
    "# Plot VADER results"
   ]
  },
  {
   "cell_type": "code",
   "execution_count": 27,
   "metadata": {},
   "outputs": [
    {
     "data": {
      "image/png": "[encoded data removed]",
      "text/plain": [
       "<Figure size 432x288 with 1 Axes>"
      ]
     },
     "metadata": {
      "needs_background": "light"
     },
     "output_type": "display_data"
    }
   ],
   "source": [
    "ax = sns.barplot(data=vaders, x='Star-rating', y='compound')\n",
    "ax.set_title('Compund Score by Amazon Star Review')\n",
    "plt.show()"
   ]
  },
  {
   "cell_type": "code",
   "execution_count": 29,
   "metadata": {},
   "outputs": [
    {
     "data": {
      "image/png": "[encoded data removed]",
      "text/plain": [
       "<Figure size 864x216 with 3 Axes>"
      ]
     },
     "metadata": {
      "needs_background": "light"
     },
     "output_type": "display_data"
    }
   ],
   "source": [
    "fig, axs = plt.subplots(1, 3, figsize=(12, 3))\n",
    "sns.barplot(data=vaders, x='Star-rating', y='pos', ax=axs[0])\n",
    "sns.barplot(data=vaders, x='Star-rating', y='neu', ax=axs[1])\n",
    "sns.barplot(data=vaders, x='Star-rating', y='neg', ax=axs[2])\n",
    "axs[0].set_title('Positive')\n",
    "axs[1].set_title('Neutral')\n",
    "axs[2].set_title('Negative')\n",
    "plt.tight_layout()\n",
    "plt.show()"
   ]
  },
  {
   "cell_type": "markdown",
   "metadata": {},
   "source": [
    "# Step 3. Roberta Pretrained Model"
   ]
  },
  {
   "cell_type": "code",
   "execution_count": 35,
   "metadata": {},
   "outputs": [
    {
     "name": "stdout",
     "output_type": "stream",
     "text": [
      "Collecting transformers"
     ]
    },
    {
     "name": "stderr",
     "output_type": "stream",
     "text": [
      "WARNING: Ignoring invalid distribution -tatsmodels (c:\\anaconda\\lib\\site-packages)\n",
      "WARNING: Ignoring invalid distribution -tatsmodels (c:\\anaconda\\lib\\site-packages)\n",
      "WARNING: Ignoring invalid distribution -tatsmodels (c:\\anaconda\\lib\\site-packages)\n",
      "WARNING: Ignoring invalid distribution -tatsmodels (c:\\anaconda\\lib\\site-packages)\n",
      "WARNING: Ignoring invalid distribution -tatsmodels (c:\\anaconda\\lib\\site-packages)\n",
      "WARNING: Ignoring invalid distribution -tatsmodels (c:\\anaconda\\lib\\site-packages)\n",
      "WARNING: Ignoring invalid distribution -tatsmodels (c:\\anaconda\\lib\\site-packages)\n",
      "WARNING: Ignoring invalid distribution -tatsmodels (c:\\anaconda\\lib\\site-packages)\n",
      "WARNING: Ignoring invalid distribution -tatsmodels (c:\\anaconda\\lib\\site-packages)\n"
     ]
    },
    {
     "name": "stdout",
     "output_type": "stream",
     "text": [
      "\n",
      "  Downloading transformers-4.21.2-py3-none-any.whl (4.7 MB)\n",
      "     ---------------------------------------- 4.7/4.7 MB 6.5 MB/s eta 0:00:00\n",
      "Collecting huggingface-hub<1.0,>=0.1.0\n",
      "  Downloading huggingface_hub-0.9.1-py3-none-any.whl (120 kB)\n",
      "     -------------------------------------- 120.7/120.7 kB 7.4 MB/s eta 0:00:00\n",
      "Requirement already satisfied: requests in c:\\anaconda\\lib\\site-packages (from transformers) (2.24.0)\n",
      "Requirement already satisfied: packaging>=20.0 in c:\\anaconda\\lib\\site-packages (from transformers) (21.3)\n",
      "Requirement already satisfied: pyyaml>=5.1 in c:\\anaconda\\lib\\site-packages (from transformers) (5.3.1)\n",
      "Collecting tokenizers!=0.11.3,<0.13,>=0.11.1\n",
      "  Downloading tokenizers-0.12.1-cp38-cp38-win_amd64.whl (3.3 MB)\n",
      "     ---------------------------------------- 3.3/3.3 MB 7.2 MB/s eta 0:00:00\n",
      "Requirement already satisfied: tqdm>=4.27 in c:\\anaconda\\lib\\site-packages (from transformers) (4.50.2)\n",
      "Requirement already satisfied: filelock in c:\\anaconda\\lib\\site-packages (from transformers) (3.0.12)\n",
      "Requirement already satisfied: numpy>=1.17 in c:\\anaconda\\lib\\site-packages (from transformers) (1.22.3)\n",
      "Requirement already satisfied: regex!=2019.12.17 in c:\\anaconda\\lib\\site-packages (from transformers) (2020.10.15)\n",
      "Requirement already satisfied: typing-extensions>=3.7.4.3 in c:\\anaconda\\lib\\site-packages (from huggingface-hub<1.0,>=0.1.0->transformers) (3.7.4.3)\n",
      "Requirement already satisfied: pyparsing!=3.0.5,>=2.0.2 in c:\\anaconda\\lib\\site-packages (from packaging>=20.0->transformers) (2.4.7)\n",
      "Requirement already satisfied: chardet<4,>=3.0.2 in c:\\anaconda\\lib\\site-packages (from requests->transformers) (3.0.4)\n",
      "Requirement already satisfied: urllib3!=1.25.0,!=1.25.1,<1.26,>=1.21.1 in c:\\anaconda\\lib\\site-packages (from requests->transformers) (1.25.11)\n",
      "Requirement already satisfied: certifi>=2017.4.17 in c:\\anaconda\\lib\\site-packages (from requests->transformers) (2020.6.20)\n",
      "Requirement already satisfied: idna<3,>=2.5 in c:\\anaconda\\lib\\site-packages (from requests->transformers) (2.10)\n",
      "Installing collected packages: tokenizers, huggingface-hub, transformers\n",
      "Successfully installed huggingface-hub-0.9.1 tokenizers-0.12.1 transformers-4.21.2\n"
     ]
    }
   ],
   "source": [
    "!pip install transformers"
   ]
  },
  {
   "cell_type": "code",
   "execution_count": 36,
   "metadata": {},
   "outputs": [],
   "source": [
    "from transformers import AutoTokenizer\n",
    "from transformers import AutoModelForSequenceClassification\n",
    "from scipy.special import softmax"
   ]
  },
  {
   "cell_type": "code",
   "execution_count": null,
   "metadata": {},
   "outputs": [],
   "source": []
  }
 ],
 "metadata": {
  "kernelspec": {
   "display_name": "Python 3",
   "language": "python",
   "name": "python3"
  },
  "language_info": {
   "codemirror_mode": {
    "name": "ipython",
    "version": 3
   },
   "file_extension": ".py",
   "mimetype": "text/x-python",
   "name": "python",
   "nbconvert_exporter": "python",
   "pygments_lexer": "ipython3",
   "version": "3.8.5"
  }
 },
 "nbformat": 4,
 "nbformat_minor": 4
}
